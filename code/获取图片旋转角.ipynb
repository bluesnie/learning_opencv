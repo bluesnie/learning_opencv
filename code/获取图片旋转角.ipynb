{
 "cells": [
  {
   "cell_type": "code",
   "execution_count": 7,
   "metadata": {},
   "outputs": [],
   "source": [
    "import numpy as np\n",
    "import matplotlib.pyplot as plt\n",
    "import cv2\n",
    "import math\n",
    "%matplotlib inline"
   ]
  },
  {
   "cell_type": "code",
   "execution_count": 4,
   "metadata": {},
   "outputs": [],
   "source": [
    "def show_img(img,name='img', hstack=False):\n",
    "    if not hstack:\n",
    "        for i in range(len(img)):\n",
    "            cv2.imshow(name + str(i), img[i])\n",
    "    else:\n",
    "        res = np.hstack(img)\n",
    "        cv2.imshow(\"res\", res)\n",
    "    cv2.waitKey(0)\n",
    "    cv2.destroyAllWindows()"
   ]
  },
  {
   "cell_type": "code",
   "execution_count": 5,
   "metadata": {},
   "outputs": [],
   "source": [
    "file_path = \"../img/rate_test.png\""
   ]
  },
  {
   "cell_type": "code",
   "execution_count": 3,
   "metadata": {},
   "outputs": [],
   "source": [
    "img = cv2.imread(file_path, -1)\n",
    "gray = cv2.cvtColor(img, cv2.COLOR_BGR2GRAY)"
   ]
  },
  {
   "cell_type": "code",
   "execution_count": 9,
   "metadata": {},
   "outputs": [
    {
     "name": "stdout",
     "output_type": "stream",
     "text": [
      "911.0 1279.0\n",
      "[[1279  911]\n",
      " [   0  911]\n",
      " [   0    0]\n",
      " [1279    0]]\n",
      "绘制最小外界矩形\n"
     ]
    }
   ],
   "source": [
    "contours,hierarchy = cv2.findContours(gray, 2, 2)\n",
    "\n",
    "for cnt in contours:\n",
    "\n",
    "    # 最小外界矩形的宽度和高度\n",
    "    width, height = cv2.minAreaRect(cnt)[1]\n",
    "    print(width, height)\n",
    "\n",
    "    if width* height > 100:\n",
    "        # 最小的外接矩形\n",
    "        rect = cv2.minAreaRect(cnt)\n",
    "        box = cv2.boxPoints(rect)  # 获取最小外接矩形的4个顶点\n",
    "        box = np.int0(box)\n",
    "        print(box)\n",
    "\n",
    "        if 0 not in box.ravel():\n",
    "            print(\"绘制最小外界矩形\")\n",
    "\n",
    "            '''绘制最小外界矩形\n",
    "            for i in range(4):\n",
    "                cv2.line(image, tuple(box[i]), tuple(box[(i+1)%4]), 0)  # 5\n",
    "            '''\n",
    "            # 旋转角度\n",
    "            theta = cv2.minAreaRect(cnt)[2]\n",
    "            if abs(theta) <= 45:\n",
    "                print('图片的旋转角度为%s.'%theta)\n",
    "                angle = theta\n",
    "\n",
    "# 仿射变换,对图片旋转angle角度\n",
    "h, w, c = img.shape\n",
    "center = (w//2, h//2)\n",
    "angle = 0\n",
    "M = cv2.getRotationMatrix2D(center, angle, 1.0)\n",
    "rotated = cv2.warpAffine(img, M, (w, h), flags=cv2.INTER_CUBIC, borderMode=cv2.BORDER_REPLICATE)"
   ]
  },
  {
   "cell_type": "code",
   "execution_count": 11,
   "metadata": {},
   "outputs": [
    {
     "ename": "error",
     "evalue": "OpenCV(4.2.0) C:/projects/opencv-python/opencv/modules/highgui/src/precomp.hpp:137: error: (-215:Assertion failed) src_depth != CV_16F && src_depth != CV_32S in function 'convertToShow'\n",
     "output_type": "error",
     "traceback": [
      "\u001b[1;31m---------------------------------------------------------------------------\u001b[0m",
      "\u001b[1;31merror\u001b[0m                                     Traceback (most recent call last)",
      "\u001b[1;32m<ipython-input-11-53080634b985>\u001b[0m in \u001b[0;36m<module>\u001b[1;34m\u001b[0m\n\u001b[0;32m      1\u001b[0m \u001b[0mcv2\u001b[0m\u001b[1;33m.\u001b[0m\u001b[0mimshow\u001b[0m\u001b[1;33m(\u001b[0m\u001b[1;34m'ret1'\u001b[0m\u001b[1;33m,\u001b[0m \u001b[0mimg\u001b[0m\u001b[1;33m)\u001b[0m\u001b[1;33m\u001b[0m\u001b[1;33m\u001b[0m\u001b[0m\n\u001b[1;32m----> 2\u001b[1;33m \u001b[0mcv2\u001b[0m\u001b[1;33m.\u001b[0m\u001b[0mimshow\u001b[0m\u001b[1;33m(\u001b[0m\u001b[1;34m'ret2'\u001b[0m\u001b[1;33m,\u001b[0m \u001b[0mbox\u001b[0m\u001b[1;33m)\u001b[0m\u001b[1;33m\u001b[0m\u001b[1;33m\u001b[0m\u001b[0m\n\u001b[0m\u001b[0;32m      3\u001b[0m \u001b[0mcv2\u001b[0m\u001b[1;33m.\u001b[0m\u001b[0mwaitKey\u001b[0m\u001b[1;33m(\u001b[0m\u001b[1;36m0\u001b[0m\u001b[1;33m)\u001b[0m\u001b[1;33m\u001b[0m\u001b[1;33m\u001b[0m\u001b[0m\n",
      "\u001b[1;31merror\u001b[0m: OpenCV(4.2.0) C:/projects/opencv-python/opencv/modules/highgui/src/precomp.hpp:137: error: (-215:Assertion failed) src_depth != CV_16F && src_depth != CV_32S in function 'convertToShow'\n"
     ]
    }
   ],
   "source": [
    "cv2.imshow('ret1', img)\n",
    "cv2.imshow('ret2', box)\n",
    "cv2.waitKey(0)"
   ]
  },
  {
   "cell_type": "code",
   "execution_count": 35,
   "metadata": {},
   "outputs": [],
   "source": [
    "def Img_Outline(input_dir):\n",
    "    original_img = cv2.imread(input_dir)\n",
    "    gray_img = cv2.cvtColor(original_img, cv2.COLOR_BGR2GRAY)\n",
    "    blurred = cv2.GaussianBlur(gray_img, (9, 9), 0)                     # 高斯模糊去噪（设定卷积核大小影响效果）\n",
    "    _, RedThresh = cv2.threshold(blurred, 165, 255, cv2.THRESH_BINARY)  # 设定阈值165（阈值影响开闭运算效果）\n",
    "    kernel = cv2.getStructuringElement(cv2.MORPH_RECT, (5, 5))          # 定义矩形结构元素\n",
    "    closed = cv2.morphologyEx(RedThresh, cv2.MORPH_CLOSE, kernel)       # 闭运算（链接块）\n",
    "    opened = cv2.morphologyEx(closed, cv2.MORPH_OPEN, kernel)           # 开运算（去噪点）\n",
    "    return original_img, gray_img, RedThresh, closed, opened\n",
    "\n",
    "\n",
    "def findContours_img(original_img, opened):\n",
    "    contours, hierarchy = cv2.findContours(opened, mode=cv2.RETR_LIST, method=cv2.CHAIN_APPROX_SIMPLE)\n",
    "    c = sorted(contours, key=cv2.contourArea, reverse=True)[1]          # 计算最大轮廓的旋转包围盒\n",
    "    rect = cv2.minAreaRect(c)\n",
    "    angle = rect[2]\n",
    "    print(\"angle\",angle)\n",
    "    box = np.int0(cv2.boxPoints(rect))\n",
    "    draw_img = cv2.drawContours(original_img.copy(), [box], -1, (0, 0, 255), 3)\n",
    "#     rows, cols = original_img.shape[:2]\n",
    "#     M = cv2.getRotationMatrix2D((cols / 2, rows / 2), angle, 1)\n",
    "#     result_img = cv2.warpAffine(original_img, M, (cols, rows))\n",
    "#     return result_img,draw_img\n",
    "    return box,draw_img\n",
    "\n",
    "def Perspective_transform(box,original_img):\n",
    "    # 获取画框宽高(x=orignal_W,y=orignal_H)\n",
    "    orignal_W = math.ceil(np.sqrt((box[3][1] - box[2][1])**2 + (box[3][0] - box[2][0])**2))\n",
    "    orignal_H= math.ceil(np.sqrt((box[3][1] - box[0][1])**2 + (box[3][0] - box[0][0])**2))\n",
    "\n",
    "    # 原图中的四个顶点,与变换矩阵\n",
    "    pts1 = np.float32([box[0], box[1], box[2], box[3]])\n",
    "    pts2 = np.float32([[int(orignal_W+1),int(orignal_H+1)], [0, int(orignal_H+1)], [0, 0], [int(orignal_W+1), 0]])\n",
    "\n",
    "    # 生成透视变换矩阵；进行透视变换\n",
    "    M = cv2.getPerspectiveTransform(pts1, pts2)\n",
    "    result_img = cv2.warpPerspective(original_img, M, (int(orignal_W+3),int(orignal_H+1)))\n",
    "    print(\"获取画框宽高，\", orignal_W, orignal_H)\n",
    "    print(\"原图大小，\", original_img.size, original_img.shape)\n",
    "    print(\"图片大小，\", result_img.size, result_img.shape)\n",
    "    return result_img"
   ]
  },
  {
   "cell_type": "code",
   "execution_count": 34,
   "metadata": {},
   "outputs": [
    {
     "name": "stdout",
     "output_type": "stream",
     "text": [
      "angle -3.1622977256774902\n",
      "获取画框宽高， 250 121\n",
      "原图大小， 3502080 (912, 1280, 3)\n",
      "图片大小， 92598 (122, 253, 3)\n"
     ]
    }
   ],
   "source": [
    "original_img, gray_img, RedThresh, closed, opened = Img_Outline(file_path)\n",
    "box,draw_img = findContours_img(original_img,RedThresh)\n",
    "result_img = Perspective_transform(box,original_img)\n",
    "\n",
    "# show_img([original_img, gray_img, RedThresh, closed, opened])\n",
    "show_img([original_img, result_img, draw_img])"
   ]
  },
  {
   "cell_type": "code",
   "execution_count": 38,
   "metadata": {},
   "outputs": [],
   "source": [
    "def fourier_demo():\n",
    "    #1、灰度化读取文件，\n",
    "    img = cv2.imread(file_path,0)\n",
    "\n",
    "    #2、图像延扩\n",
    "    h, w = img.shape[:2]\n",
    "    new_h = cv2.getOptimalDFTSize(h)\n",
    "    new_w = cv2.getOptimalDFTSize(w)\n",
    "    right = new_w - w\n",
    "    bottom = new_h - h\n",
    "    nimg = cv2.copyMakeBorder(img, 0, bottom, 0, right, borderType=cv2.BORDER_CONSTANT, value=0)\n",
    "#     cv2.imshow('new image', nimg)\n",
    "\n",
    "    #3、执行傅里叶变换，并过得频域图像\n",
    "    f = np.fft.fft2(nimg)\n",
    "    fshift = np.fft.fftshift(f)\n",
    "    magnitude = np.log(np.abs(fshift))\n",
    "\n",
    "\n",
    "    #二值化\n",
    "    magnitude_uint = magnitude.astype(np.uint8)\n",
    "    ret, thresh = cv2.threshold(magnitude_uint, 11, 255, cv2.THRESH_BINARY)\n",
    "    print(ret)\n",
    "\n",
    "#     cv2.imshow('thresh', thresh)\n",
    "    print(thresh.dtype)\n",
    "    #霍夫直线变换\n",
    "    lines = cv2.HoughLinesP(thresh, 2, np.pi/180, 30, minLineLength=40, maxLineGap=100)\n",
    "    print(len(lines))\n",
    "\n",
    "    #创建一个新图像，标注直线\n",
    "    lineimg = np.ones(nimg.shape,dtype=np.uint8)\n",
    "    lineimg = lineimg * 255\n",
    "\n",
    "    piThresh = np.pi/180\n",
    "    pi2 = np.pi/2\n",
    "    print(piThresh)\n",
    "\n",
    "    for line in lines:\n",
    "        x1, y1, x2, y2 = line[0]\n",
    "        cv2.line(lineimg, (x1, y1), (x2, y2), (0, 255, 0), 2)\n",
    "        if x2 - x1 == 0:\n",
    "            continue\n",
    "        else:\n",
    "            theta = (y2 - y1) / (x2 - x1)\n",
    "        if abs(theta) < piThresh or abs(theta - pi2) < piThresh:\n",
    "            continue\n",
    "        else:\n",
    "            print(theta)\n",
    "\n",
    "    angle = math.atan(theta)\n",
    "    print(angle)\n",
    "    angle = angle * (180 / np.pi)\n",
    "    print(angle)\n",
    "    angle = (angle - 90)/(w/h)\n",
    "    print(angle)\n",
    "\n",
    "    center = (w//2, h//2)\n",
    "    M = cv2.getRotationMatrix2D(center, angle, 1.0)\n",
    "    rotated = cv2.warpAffine(img, M, (w, h), flags=cv2.INTER_CUBIC, borderMode=cv2.BORDER_REPLICATE)\n",
    "#     cv2.imshow('line image', lineimg)\n",
    "#     cv2.imshow('rotated', rotated)\n",
    "    return lineimg, rotated"
   ]
  },
  {
   "cell_type": "code",
   "execution_count": 40,
   "metadata": {},
   "outputs": [
    {
     "name": "stdout",
     "output_type": "stream",
     "text": [
      "11.0\n",
      "uint8\n",
      "60\n",
      "0.017453292519943295\n",
      "-54.0\n",
      "-57.42857142857143\n",
      "-63.4\n",
      "-29.272727272727273\n",
      "9.6\n",
      "-31.0\n",
      "84.0\n",
      "-53.0\n",
      "-26.4\n",
      "-27.8\n",
      "26.8\n",
      "-31.2\n",
      "58.25\n",
      "0.019801980198019802\n",
      "19.428571428571427\n",
      "19.428571428571427\n",
      "28.666666666666668\n",
      "52.666666666666664\n",
      "-28.0\n",
      "-19.333333333333332\n",
      "-19.166666666666668\n",
      "14.166666666666666\n",
      "18.5\n",
      "-55.666666666666664\n",
      "23.8\n",
      "-28.2\n",
      "19.6\n",
      "-19.0\n",
      "-20.5\n",
      "14.166666666666666\n",
      "-0.08633093525179857\n",
      "-0.08611741357726795\n",
      "-4.934164340560066\n",
      "-67.64059209264906\n"
     ]
    }
   ],
   "source": [
    "ret1 , ret2 = fourier_demo()\n",
    "show_img([ret1, ret2])"
   ]
  },
  {
   "cell_type": "code",
   "execution_count": null,
   "metadata": {},
   "outputs": [],
   "source": []
  },
  {
   "cell_type": "code",
   "execution_count": null,
   "metadata": {},
   "outputs": [],
   "source": []
  },
  {
   "cell_type": "code",
   "execution_count": null,
   "metadata": {},
   "outputs": [],
   "source": []
  }
 ],
 "metadata": {
  "kernelspec": {
   "display_name": "Python 3",
   "language": "python",
   "name": "python3"
  },
  "language_info": {
   "codemirror_mode": {
    "name": "ipython",
    "version": 3
   },
   "file_extension": ".py",
   "mimetype": "text/x-python",
   "name": "python",
   "nbconvert_exporter": "python",
   "pygments_lexer": "ipython3",
   "version": "3.7.4"
  }
 },
 "nbformat": 4,
 "nbformat_minor": 2
}
